{
 "cells": [
  {
   "cell_type": "code",
   "execution_count": 26,
   "id": "ff726887-6395-43b9-9dc6-ac31ca95a960",
   "metadata": {},
   "outputs": [
    {
     "name": "stdout",
     "output_type": "stream",
     "text": [
      "Name of the Vehicle: Car\n",
      "Maximum Speed: 200\n",
      "Average Speed: 60\n"
     ]
    }
   ],
   "source": [
    "# Q1, Create a vehicle class with an init method having instance variables as\n",
    "# name_of_vehicle, max_speed and average_of_vehicle.\n",
    "\n",
    "class vehicle:\n",
    "    def __init__(self,name_of_vehicle, max_speed ,average_of_vehicle):\n",
    "        self.name_of_vehicle=name_of_vehicle\n",
    "        self.max_speed=max_speed\n",
    "        self.average_of_vehicle=average_of_vehicle\n",
    "        \n",
    "        \n",
    "# Creating an instance of the Vehicle class\n",
    "my_vehicle = vehicle(\"Car\", 200, 60)\n",
    "\n",
    "# Accessing the attributes\n",
    "print(\"Name of the Vehicle:\", my_vehicle.name_of_vehicle)\n",
    "print(\"Maximum Speed:\", my_vehicle.max_speed)\n",
    "print(\"Average Speed:\", my_vehicle.average_of_vehicle)\n"
   ]
  },
  {
   "cell_type": "code",
   "execution_count": 121,
   "id": "ca5adb33-38bc-4d6a-a25e-5ee52412e61b",
   "metadata": {},
   "outputs": [
    {
     "data": {
      "text/plain": [
       "'sedan having capacity of 4 '"
      ]
     },
     "execution_count": 121,
     "metadata": {},
     "output_type": "execute_result"
    }
   ],
   "source": [
    "# Q2. Create a child class car from the vehicle class created in Que 1, which will inherit the vehicle class.\n",
    "# Create a method named seating_capacity which takes capacity as an argument and returns the name of\n",
    "# the vehicle and its seating capacity.\n",
    "class vehicle:\n",
    "    def __init__(self,name_of_vehicle, max_speed ,average_of_vehicle):\n",
    "        self.name_of_vehicle=name_of_vehicle\n",
    "        self.max_speed=max_speed\n",
    "        self.average_of_vehicle=average_of_vehicle\n",
    "        \n",
    "class child_car(vehicle):\n",
    "    \n",
    "    def  seating_capacity(self,capacity):\n",
    "      \n",
    "        return f\"{self.name_of_vehicle} having capacity of {capacity} \"\n",
    "        \n",
    "child_car1=child_car('sedan',334,44)\n",
    "child_car1.seating_capacity(4)\n"
   ]
  },
  {
   "cell_type": "code",
   "execution_count": 122,
   "id": "9c847929-8906-4010-b1c0-4cce679b1921",
   "metadata": {},
   "outputs": [
    {
     "name": "stdout",
     "output_type": "stream",
     "text": [
      "Method A\n",
      "Method B\n",
      "Method C\n"
     ]
    }
   ],
   "source": [
    "# Q3. What is multiple inheritance? Write a python code to demonstrate multiple inheritance.\n",
    "# Multiple inheritance: \n",
    "# Multiple inheritance is a feature in object-oriented programming that allows a class\n",
    "# to inherit attributes and methods from more than one parent class. In other words, \n",
    "# a class can have multiple base or parent classes, and it inherits properties and behaviors from all of them.\n",
    "# This enables the creation of complex class hierarchies and the reusability of code in situations where a class \n",
    "# needs to exhibit characteristics from multiple sources.\n",
    "\n",
    "#example\n",
    "class A:\n",
    "    def method_a(self):\n",
    "        print(\"Method A\")\n",
    "\n",
    "class B:\n",
    "    def method_b(self):\n",
    "        print(\"Method B\")\n",
    "\n",
    "class C(A, B):\n",
    "    def method_c(self):\n",
    "        print(\"Method C\")\n",
    "\n",
    "c1 = C()\n",
    "c1.method_a()   # Output: Method A\n",
    "c1.method_b()   # Output: Method B\n",
    "c1.method_c()   # Output: Method C\n",
    "\n",
    "# In the above example, we have defined three classes: \"A\", \"B\", and \"C\".\n",
    "# The \"C\" subclass inherits from both \"A\" and \"B\" superclasses, and defines its own method \"method_c\".\n",
    "\n",
    "\n"
   ]
  },
  {
   "cell_type": "code",
   "execution_count": 1,
   "id": "01f8c4f8-3bb1-49e1-8bcb-68741821ff0a",
   "metadata": {},
   "outputs": [
    {
     "name": "stdout",
     "output_type": "stream",
     "text": [
      "Radius: 5\n",
      "Updated Radius: 7\n",
      "Radius cannot be negative. Setting to 0.\n",
      "Updated Radius: 0\n"
     ]
    }
   ],
   "source": [
    "# Q4. What are getter and setter in python? Create a class and create a getter\n",
    "# and a setter method in this class.\n",
    "# In Python, getters and setters are methods used to control access to class attributes\n",
    "# or instance variables. They allow you to encapsulate and enforce data access rules, \n",
    "# such as validation or calculations, when getting or setting the values of attributes.\n",
    "# Getters are used to retrieve the value of an attribute, and setters are used to modify the value of an attribute.\n",
    "\n",
    "# Here's an example of a Python class with a getter and a setter method:\n",
    "\n",
    "class Circle:\n",
    "    def __init__(self, radius):\n",
    "        self._radius = radius  # Private attribute with an underscore prefix\n",
    "\n",
    "    # Getter method to retrieve the radius\n",
    "    def get_radius(self):\n",
    "        return self._radius\n",
    "\n",
    "    # Setter method to set the radius and enforce a positive value\n",
    "    def set_radius(self, radius):\n",
    "        if radius < 0:\n",
    "            print(\"Radius cannot be negative. Setting to 0.\")\n",
    "            self._radius = 0\n",
    "        else:\n",
    "            self._radius = radius\n",
    "\n",
    "    def area(self):\n",
    "        return 3.14159 * (self._radius ** 2)\n",
    "\n",
    "# Creating an instance of the Circle class\n",
    "my_circle = Circle(5)\n",
    "\n",
    "# Using the getter to retrieve the radius\n",
    "print(\"Radius:\", my_circle.get_radius())\n",
    "\n",
    "# Using the setter to update the radius\n",
    "my_circle.set_radius(7)\n",
    "print(\"Updated Radius:\", my_circle.get_radius())\n",
    "\n",
    "# Attempting to set a negative radius using the setter\n",
    "my_circle.set_radius(-3)\n",
    "print(\"Updated Radius:\", my_circle.get_radius())  # Radius will be 0 due to the setter\n"
   ]
  },
  {
   "cell_type": "code",
   "execution_count": 2,
   "id": "15f3d899-4cb4-4158-ae0d-832b38673093",
   "metadata": {},
   "outputs": [
    {
     "name": "stdout",
     "output_type": "stream",
     "text": [
      "Dog barks\n",
      "Cat meows\n"
     ]
    }
   ],
   "source": [
    "# Q5.What is method overriding in python? Write a python code to demonstrate method overriding.\n",
    "# Method overriding in Python is a concept that allows a subclass to provide a specific implementation\n",
    "# for a method that is already defined in its superclass. When a subclass overrides a method,\n",
    "# the subclass's version of the method is called instead of the superclass's version when an object\n",
    "# of the subclass is involved. This enables you to customize the behavior of methods in the subclass\n",
    "# while still maintaining the same method signature.\n",
    "\n",
    "# Here's an example that demonstrates method overriding in Python:\n",
    "class Animal:\n",
    "    def speak(self):\n",
    "        print(\"Animal speaks\")\n",
    "\n",
    "class Dog(Animal):\n",
    "    # Override the speak method in the subclass\n",
    "    def speak(self):\n",
    "        print(\"Dog barks\")\n",
    "\n",
    "class Cat(Animal):\n",
    "    # Override the speak method in the subclass\n",
    "    def speak(self):\n",
    "        print(\"Cat meows\")\n",
    "\n",
    "# Create instances of the subclasses\n",
    "dog = Dog()\n",
    "cat = Cat()\n",
    "\n",
    "# Call the speak method on the instances\n",
    "dog.speak()  # Calls the overridden Dog class's speak method\n",
    "cat.speak()  # Calls the overridden Cat class's speak method\n"
   ]
  },
  {
   "cell_type": "code",
   "execution_count": null,
   "id": "fa83adee-1e9a-4338-9b20-9461905a8523",
   "metadata": {},
   "outputs": [],
   "source": []
  }
 ],
 "metadata": {
  "kernelspec": {
   "display_name": "Python 3 (ipykernel)",
   "language": "python",
   "name": "python3"
  },
  "language_info": {
   "codemirror_mode": {
    "name": "ipython",
    "version": 3
   },
   "file_extension": ".py",
   "mimetype": "text/x-python",
   "name": "python",
   "nbconvert_exporter": "python",
   "pygments_lexer": "ipython3",
   "version": "3.10.8"
  }
 },
 "nbformat": 4,
 "nbformat_minor": 5
}
