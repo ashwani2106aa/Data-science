{
 "cells": [
  {
   "cell_type": "code",
   "execution_count": 1,
   "id": "fef32dab-dc2c-49dd-9080-918ec038c442",
   "metadata": {
    "tags": []
   },
   "outputs": [],
   "source": [
    "# Q1. Explain Class and Object with respect to Object-Oriented Programming. Give a suitable example.\n",
    "# In Object-Oriented Programming (OOP), a class is a blueprint or a template that \n",
    "# defines the characteristics and behavior of an object.\n",
    "# An object, on the other hand, is an instance of a class \n",
    "# that has its own unique set of values for the variables defined in the class.\n",
    "# To explain this with an example, let's consider the class \"Car\" and an object \"MyCar\". \n",
    "# The class \"Car\" defines the properties and methods that are common to all cars, such as make, model, color, and speed.\n",
    "class Car:\n",
    "    def __init__(self, make, model, color):\n",
    "        self.make = make\n",
    "        self.model = model\n",
    "        self.color = color\n",
    "        self.speed = 0\n",
    "\n",
    "    def accelerate(self, acceleration):\n",
    "        self.speed += acceleration\n",
    "\n",
    "    def brake(self, deceleration):\n",
    "        self.speed -= deceleration\n",
    "\n",
    "        \n",
    "# Here, we have defined a class \"Car\" with three attributes: \"make\", \"model\", and \"color\", \n",
    "# and two methods: \"accelerate\" and \"brake\". \n",
    "# The \"init\" method is a special method in Python that is called when an object of the class is created.\n"
   ]
  },
  {
   "cell_type": "code",
   "execution_count": 2,
   "id": "317446a3-84f0-4058-9446-64e24caffb98",
   "metadata": {},
   "outputs": [],
   "source": [
    "# Now, let's create an object \"MyCar\" of the class \"Car\" with specific values for its attributes:\n",
    "MyCar = Car(\"Toyota\", \"Camry\", \"Red\")\n",
    "# Here, we have created an object \"MyCar\" of the class \"Car\" with make = \"Toyota\", model = \"Camry\", and color = \"Red\".\n",
    "# We can now use the methods defined in the class to manipulate the object:"
   ]
  },
  {
   "cell_type": "code",
   "execution_count": 3,
   "id": "bf89022b-8cf2-40c4-8bdc-5df4f4584294",
   "metadata": {
    "tags": []
   },
   "outputs": [
    {
     "name": "stdout",
     "output_type": "stream",
     "text": [
      "30\n",
      "20\n"
     ]
    }
   ],
   "source": [
    "MyCar.accelerate(30)\n",
    "print(MyCar.speed)   # Output: 30\n",
    "\n",
    "MyCar.brake(10)\n",
    "print(MyCar.speed)   # Output: 20\n",
    "# In the above example, we have used the \"accelerate\" method to increase the speed of the \"MyCar\" object by 30 \n",
    "# and the \"brake\" method to decrease the speed by 10.\n",
    "# We can access the value of the \"speed\" attribute using the dot notation (i.e., \"MyCar.speed\").\n",
    "\n",
    "# This example demonstrates the basic concepts of class and object in OOP. \n",
    "# The class defines the properties and behaviors of an object,\n",
    "# and the object is an instance of the class with its own set of values for the attributes defined in the class."
   ]
  },
  {
   "cell_type": "code",
   "execution_count": 4,
   "id": "6c9aa338-3490-4a89-b7fc-0c22bebd0b5c",
   "metadata": {},
   "outputs": [],
   "source": [
    "# Q2. Name the four pillars of OOPs.\n",
    "# The four pillars of Object-Oriented Programming (OOP) are:\n",
    "\n",
    "# Encapsulation: Encapsulation refers to the practice of hiding the internal details of an object from the outside world,\n",
    "# and only exposing a public interface for interacting with the object.\n",
    "# This helps to ensure that the object's state is not inadvertently modified by external code, \n",
    "# and provides a way to enforce the rules governing the object's behavior.\n",
    "\n",
    "# Inheritance: Inheritance allows one class to inherit the properties and methods of another class.\n",
    "# This is useful for creating hierarchies of classes with shared functionality,\n",
    "# and for creating specialized classes based on more general ones.\n",
    "\n",
    "# Polymorphism: Polymorphism refers to the ability of objects of different classes to be treated as if they were of the same class. \n",
    "# This allows for more flexible and modular code,\n",
    "# as different objects can be used interchangeably in the same context, as long as they conform to a common interface or protocol.\n",
    "\n",
    "# Abstraction: Abstraction is the practice of focusing on the essential properties and behavior of an object,\n",
    "# while ignoring its non-essential details.\n",
    "# This helps to simplify the design of complex systems, and makes it easier to reason about and modify code.\n",
    "# Abstraction is often achieved through the use of interfaces, abstract classes,\n",
    "# and other high-level constructs that provide a way \n",
    "# to describe the behavior of an object without getting bogged down in implementation details.\n",
    "\n",
    "\n",
    "\n",
    "\n",
    "\n",
    "\n"
   ]
  },
  {
   "cell_type": "code",
   "execution_count": 1,
   "id": "5b2440e6-e6f8-49a8-b1f0-b413305b78ad",
   "metadata": {},
   "outputs": [
    {
     "name": "stdout",
     "output_type": "stream",
     "text": [
      "Name: John\n",
      "Age: 25\n"
     ]
    }
   ],
   "source": [
    "# Q3. Explain why the __init__() function is used. Give a suitable example.\n",
    "# The \"init()\" function is a special method in Python classes that is used to initialize the object's state when it is created.\n",
    "# It is called automatically when an object of a class is instantiated,\n",
    "# and is used to set up the initial values of the object's attributes.\n",
    "\n",
    "# The \"init()\" method takes at least one parameter (self), which refers to the object being created, \n",
    "# and can take additional parameters to specify the initial values of the object's attributes. \n",
    "# The self parameter is used to refer to the object's attributes and methods within the class definition.\n",
    "\n",
    "# Here is an example to demonstrate the use of the \"init()\" method:\n",
    "\n",
    "class Person:\n",
    "    def __init__(self, name, age):\n",
    "        self.name = name\n",
    "        self.age = age\n",
    "\n",
    "    def print_info(self):\n",
    "        print(\"Name:\", self.name)\n",
    "        print(\"Age:\", self.age)\n",
    "\n",
    "person1 = Person(\"John\", 25)\n",
    "person1.print_info()   # Output: Name: John, Age: 25\n",
    "\n",
    "\n",
    "\n",
    "\n",
    "# In the above example, we have defined a class \"Person\" with two attributes: \"name\" and \"age\". \n",
    "# The \"init()\" method takes two parameters, \"name\" and \"age\",\n",
    "# and initializes the object's attributes with the values passed in.\n",
    "# We have also defined a method \"print_info()\" to print the object's attributes.\n",
    "\n",
    "# We then create an object \"person1\" of the class \"Person\" with name = \"John\" and age = 25,\n",
    "# and call the \"print_info()\" method to print the object's attributes.\n",
    "\n",
    "# The \"init()\" method is used to ensure that the object is properly initialized when it is created,\n",
    "# and to provide a convenient way to set the initial values of the object's attributes.\n",
    "# It is an important part of object-oriented programming, \n",
    "# as it helps to ensure that objects are created with the correct initial state, \n",
    "# and can be used consistently throughout the program."
   ]
  },
  {
   "cell_type": "code",
   "execution_count": 6,
   "id": "32b42f60-79ac-40f3-8b58-e1163c92db65",
   "metadata": {},
   "outputs": [
    {
     "name": "stdout",
     "output_type": "stream",
     "text": [
      "Make: Honda\n",
      "Model: Civic\n",
      "Year: 2022\n"
     ]
    }
   ],
   "source": [
    "# Q4. Why self is used in OOPs?\n",
    "# In Object-Oriented Programming (OOP), \"self\" is a reference to the current instance of the class. \n",
    "# It is a convention in Python (and some other programming languages) to use the name \"self\" \n",
    "# as the first parameter of instance methods.\n",
    "# When a method is called on an object, the object is automatically passed as the first argument to the method,\n",
    "# and is referred to as \"self\" within the method.\n",
    "\n",
    "# The use of \"self\" allows us to access the object's attributes and methods from within the class definition,\n",
    "# and to modify the object's state as needed.\n",
    "# By using \"self\" as a reference to the current instance of the class,\n",
    "# we can avoid naming conflicts with other variables in the program, and can ensure that the correct object is being modified.\n",
    "\n",
    "# Here is an example to demonstrate the use of \"self\" in a Python class:\n",
    "class Car:\n",
    "    def __init__(self, make, model, year):\n",
    "        self.make = make\n",
    "        self.model = model\n",
    "        self.year = year\n",
    "\n",
    "    def print_info(self):\n",
    "        print(\"Make:\", self.make)\n",
    "        print(\"Model:\", self.model)\n",
    "        print(\"Year:\", self.year)\n",
    "\n",
    "car1 = Car(\"Honda\", \"Civic\", 2022)\n",
    "car1.print_info()   # Output: Make: Honda, Model: Civic, Year: 2022\n",
    "\n",
    "# In the above example, we have defined a class \"Car\" with three attributes: \"make\", \"model\", and \"year\".\n",
    "# The \"init()\" method takes three parameters to initialize these attributes,\n",
    "# and the \"print_info()\" method is defined to print the object's attributes.\n",
    "\n",
    "# We then create an object \"car1\" of the class \"Car\" with make = \"Honda\", model = \"Civic\", and year = 2022, \n",
    "# and call the \"print_info()\" method to print the object's attributes.\n",
    "\n",
    "# By using \"self\" as a reference to the current instance of the class,\n",
    "# we can access and modify the object's attributes within the class definition, \n",
    "# and ensure that the correct object is being modified.\n",
    "# The use of \"self\" is an important concept in OOP,\n",
    "# as it allows us to create objects that can store and manipulate data in a consistent and organized way.\n",
    "\n",
    "\n",
    "\n",
    "\n",
    "\n"
   ]
  },
  {
   "cell_type": "code",
   "execution_count": 13,
   "id": "3a2ae285-c7a6-47e9-9cf6-bb21a3c4fed8",
   "metadata": {},
   "outputs": [],
   "source": [
    "# Q5. What is inheritance? Give an example for each type of inheritance.\n",
    "# Inheritance is a fundamental concept in Object-Oriented Programming (OOP) that\n",
    "# allows one class to inherit the attributes and methods of another class. \n",
    "# Inheritance helps to promote code reusability,\n",
    "# as it allows us to create new classes based on existing ones, without having to duplicate code.\n",
    "\n",
    "# There are five types of inheritance in OOP"
   ]
  },
  {
   "cell_type": "code",
   "execution_count": 8,
   "id": "82c68a41-cfff-43a9-838f-e8d657f8f6fc",
   "metadata": {},
   "outputs": [
    {
     "name": "stdout",
     "output_type": "stream",
     "text": [
      "Buddy\n",
      "Woof\n"
     ]
    }
   ],
   "source": [
    "# Single inheritance: In single inheritance, a subclass inherits from a single superclass.\n",
    "#example\n",
    "class Animal:\n",
    "    def __init__(self, name):\n",
    "        self.name = name\n",
    "\n",
    "    def sound(self):\n",
    "        pass\n",
    "\n",
    "class Dog(Animal):\n",
    "    def sound(self):\n",
    "        print(\"Woof\")\n",
    "\n",
    "dog1 = Dog(\"Buddy\")\n",
    "print(dog1.name)    # Output: Buddy\n",
    "dog1.sound()        # Output: Woof\n",
    "\n",
    "\n",
    "# In the above example, we have defined a superclass \"Animal\" with an attribute \"name\" and a method \"sound\",\n",
    "# and a subclass \"Dog\" that inherits from the superclass. \n",
    "# The \"Dog\" subclass overrides the \"sound\" method of the \"Animal\" superclass to make a specific sound (\"Woof\").\n",
    "\n"
   ]
  },
  {
   "cell_type": "code",
   "execution_count": 9,
   "id": "d95f61ec-7c22-497c-a2a7-2bf92c2b24d7",
   "metadata": {},
   "outputs": [
    {
     "name": "stdout",
     "output_type": "stream",
     "text": [
      "Method A\n",
      "Method B\n",
      "Method C\n"
     ]
    }
   ],
   "source": [
    "# Multiple inheritance: In multiple inheritance, a subclass inherits from multiple superclasses\n",
    "#example\n",
    "class A:\n",
    "    def method_a(self):\n",
    "        print(\"Method A\")\n",
    "\n",
    "class B:\n",
    "    def method_b(self):\n",
    "        print(\"Method B\")\n",
    "\n",
    "class C(A, B):\n",
    "    def method_c(self):\n",
    "        print(\"Method C\")\n",
    "\n",
    "c1 = C()\n",
    "c1.method_a()   # Output: Method A\n",
    "c1.method_b()   # Output: Method B\n",
    "c1.method_c()   # Output: Method C\n",
    "\n",
    "# In the above example, we have defined three classes: \"A\", \"B\", and \"C\".\n",
    "# The \"C\" subclass inherits from both \"A\" and \"B\" superclasses, and defines its own method \"method_c\".\n",
    "\n",
    "\n"
   ]
  },
  {
   "cell_type": "code",
   "execution_count": 10,
   "id": "ff46fbad-15b0-4201-9390-7be62d8604b4",
   "metadata": {},
   "outputs": [
    {
     "name": "stdout",
     "output_type": "stream",
     "text": [
      "Buddy\n",
      "Woof\n",
      "Kitty\n",
      "Meow\n"
     ]
    }
   ],
   "source": [
    "# Hierarchical inheritance: \n",
    "# In hierarchical inheritance, a subclass inherits from a single superclass,\n",
    "# but multiple subclasses can inherit from the same superclass.\n",
    "class Animal:\n",
    "    def __init__(self, name):\n",
    "        self.name = name\n",
    "\n",
    "    def sound(self):\n",
    "        pass\n",
    "\n",
    "class Dog(Animal):\n",
    "    def sound(self):\n",
    "        print(\"Woof\")\n",
    "\n",
    "class Cat(Animal):\n",
    "    def sound(self):\n",
    "        print(\"Meow\")\n",
    "\n",
    "dog1 = Dog(\"Buddy\")\n",
    "cat1 = Cat(\"Kitty\")\n",
    "print(dog1.name)    # Output: Buddy\n",
    "dog1.sound()        # Output: Woof\n",
    "print(cat1.name)    # Output: Kitty\n",
    "cat1.sound()        # Output: Meow\n",
    "\n",
    "# In the above example, we have defined a superclass \"Animal\" with an attribute \"name\" and a method \"sound\",\n",
    "# and two subclasses \"Dog\" and \"Cat\" that inherit from the superclass.\n",
    "# The \"Dog\" subclass and the \"Cat\" subclass both override the \"sound\" method of the \"Animal\" superclass \n",
    "# to make their respective sounds (\"Woof\" and \"Meow\").\n",
    "\n",
    "\n"
   ]
  },
  {
   "cell_type": "code",
   "execution_count": 12,
   "id": "dbd0d092-0131-40ea-95bf-2d87641eb30f",
   "metadata": {},
   "outputs": [
    {
     "name": "stdout",
     "output_type": "stream",
     "text": [
      "Buddy\n",
      "Woof\n",
      "Warm-blooded\n"
     ]
    }
   ],
   "source": [
    "# Multi-level inheritance:\n",
    "# In multi-level inheritance, a subclass inherits from a superclass, which in turn inherits from another superclass.\n",
    "class Animal:\n",
    "    def __init__(self, name):\n",
    "        self.name = name\n",
    "\n",
    "    def sound(self):\n",
    "        pass\n",
    "\n",
    "class Mammal(Animal):\n",
    "    def body_temperature(self):\n",
    "        print(\"Warm-blooded\")\n",
    "\n",
    "class Dog(Mammal):\n",
    "    def sound(self):\n",
    "        print(\"Woof\")\n",
    "\n",
    "dog1 = Dog(\"Buddy\")\n",
    "print(dog1.name)            # Output: Buddy\n",
    "dog1.sound()                # Output: Woof\n",
    "dog1.body_temperature()     # Output: Warm-blooded\n",
    "\n",
    "\n",
    "#In the above example we have defined"
   ]
  },
  {
   "cell_type": "code",
   "execution_count": 15,
   "id": "962d85a6-8988-4d71-a2d2-e0f951733e1b",
   "metadata": {},
   "outputs": [
    {
     "name": "stdout",
     "output_type": "stream",
     "text": [
      "Mammal speaks\n"
     ]
    }
   ],
   "source": [
    "# Hybrid Inheritance:In Python, hybrid inheritance is a combination of multiple inheritance and hierarchical inheritance.\n",
    "# It occurs when a class inherits from both a base class and a derived class of another base class. \n",
    "# Here's an example\n",
    "class Animal:\n",
    "    def __init__(self, name):\n",
    "        self.name = name\n",
    "    def speak(self):\n",
    "        pass\n",
    "\n",
    "class Mammal(Animal):\n",
    "    def __init__(self, name):\n",
    "        super().__init__(name)\n",
    "    def speak(self):\n",
    "        return \"Mammal speaks\"\n",
    "\n",
    "class Bird(Animal):\n",
    "    def __init__(self, name):\n",
    "        super().__init__(name)\n",
    "    def speak(self):\n",
    "        return \"Bird speaks\"\n",
    "\n",
    "class Bat(Mammal, Bird):\n",
    "    def __init__(self, name):\n",
    "        super().__init__(name)\n",
    "\n",
    "b = Bat(\"Batty\")\n",
    "print(b.speak())\n",
    "\n",
    "\n",
    "# In the above example, Animal is the base class, while Mammal and Bird are derived classes.\n",
    "# Bat is derived from both Mammal and Bird, making it an example of hybrid inheritance.\n",
    "\n",
    "# When b.speak() is called, it first looks for the speak() method in Bat class, but since it doesn't exist, \n",
    "# it then looks in Mammal and Bird classes (in that order) due to the order of inheritance specified in the definition of Bat class.\n",
    "# Since Mammal class is listed first, the speak() method from Mammal is called, which returns the string \"Mammal speaks\".\n",
    "\n",
    "\n",
    "\n",
    "\n"
   ]
  },
  {
   "cell_type": "code",
   "execution_count": null,
   "id": "edd0d3ef-1786-4ea8-bea0-9c3bb9c1ee6e",
   "metadata": {},
   "outputs": [],
   "source": []
  }
 ],
 "metadata": {
  "kernelspec": {
   "display_name": "Python 3 (ipykernel)",
   "language": "python",
   "name": "python3"
  },
  "language_info": {
   "codemirror_mode": {
    "name": "ipython",
    "version": 3
   },
   "file_extension": ".py",
   "mimetype": "text/x-python",
   "name": "python",
   "nbconvert_exporter": "python",
   "pygments_lexer": "ipython3",
   "version": "3.10.8"
  }
 },
 "nbformat": 4,
 "nbformat_minor": 5
}
