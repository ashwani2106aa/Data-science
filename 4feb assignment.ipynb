{
 "cells": [
  {
   "cell_type": "code",
   "execution_count": 33,
   "id": "cc46851f-9f52-472e-b6e8-dc2e0a572980",
   "metadata": {},
   "outputs": [
    {
     "name": "stdout",
     "output_type": "stream",
     "text": [
      "[('Virat Kohli', 24936), ('Jack Kallis', 25534), ('Ricky Ponting', 27483), ('Sachin Tendulkar', 34357)]\n"
     ]
    }
   ],
   "source": [
    "# Q1. Create a python program to sort the given list of tuples based on integer value using a\n",
    "# lambda function.\n",
    "# [('Sachin Tendulkar', 34357), ('Ricky Ponting', 27483), ('Jack Kallis', 25534), ('Virat Kohli', 24936)]\n",
    "\n",
    " \n",
    "players = [('Sachin Tendulkar', 34357), ('Ricky Ponting', 27483), ('Jack Kallis', 25534), ('Virat Kohli', 24936)]\n",
    "\n",
    "sorted_players = sorted(players, key=lambda x: x[1])\n",
    "\n",
    "print(sorted_players)\n",
    "\n",
    "# In this example, we have a list of tuples players where each tuple \n",
    "# contains a player's name and their corresponding score. We use the\n",
    "# sorted() function and provide a lambda key function lambda x: x[1]\n",
    "# that extracts the integer value from each tuple for sorting. \n",
    "# The lambda function x[1] returns the second element of each tuple,\n",
    "# which represents the score.\n",
    "\n",
    "# The sorted() function sorts the list of tuples based on the integer\n",
    "# value in ascending order. The sorted result is stored in the sorted_players variable.\n",
    "\n",
    "# When you run the program, it will print the sorted list of tuples:\n"
   ]
  },
  {
   "cell_type": "code",
   "execution_count": 1,
   "id": "2013c1e2-b50f-4a7d-a9df-8c8848609327",
   "metadata": {},
   "outputs": [
    {
     "data": {
      "text/plain": [
       "[1, 4, 9, 16, 25, 36, 49, 64, 81, 100]"
      ]
     },
     "execution_count": 1,
     "metadata": {},
     "output_type": "execute_result"
    }
   ],
   "source": [
    "# Q2. Write a Python Program to find the squares of all the numbers in the given list of integers using\n",
    "# lambda and map functions.\n",
    "# [1, 2, 3, 4, 5, 6, 7, 8, 9, 10]\n",
    "\n",
    "\n",
    "l=[1, 2, 3, 4, 5, 6, 7, 8, 9, 10]\n",
    "\n",
    "result=list(map(lambda x:x**2,l))\n",
    "result"
   ]
  },
  {
   "cell_type": "code",
   "execution_count": 35,
   "id": "abeb4d98-7325-4abd-b46b-bfa0150b676c",
   "metadata": {},
   "outputs": [
    {
     "name": "stdout",
     "output_type": "stream",
     "text": [
      "('1', '2', '3', '4', '5', '6', '7', '8', '9', '10')\n"
     ]
    }
   ],
   "source": [
    "# Q3. Write a python program to convert the given list of integers into a tuple of strings. Use map and\n",
    "# lambda functions\n",
    "# Given String: [1, 2, 3, 4, 5, 6, 7, 8, 9, 10]\n",
    "# Expected output: ('1', '2', '3', '4', '5', '6', '7', '8', '9', '10')\n",
    "\n",
    "Given_String =[1, 2, 3, 4, 5, 6, 7, 8, 9, 10]\n",
    "result=tuple(map(lambda x:str(x),Given_String))\n",
    "print(result)"
   ]
  },
  {
   "cell_type": "code",
   "execution_count": 2,
   "id": "0394a319-c2ab-4027-93b9-74adf6a64718",
   "metadata": {},
   "outputs": [
    {
     "name": "stdout",
     "output_type": "stream",
     "text": [
      "15511210043330985984000000\n"
     ]
    }
   ],
   "source": [
    "# Q4. Write a python program using reduce function to compute the product of a list containing numbers\n",
    "# from 1 to 25.\n",
    "from functools import reduce\n",
    "num_list= list(range(1,26))\n",
    "product=reduce(lambda x,y:x*y,num_list)\n",
    "print(product)\n"
   ]
  },
  {
   "cell_type": "code",
   "execution_count": 10,
   "id": "39443270-b6ea-4280-8eec-538c8ecae4bf",
   "metadata": {},
   "outputs": [
    {
     "data": {
      "text/plain": [
       "[6, 60, 90, 120]"
      ]
     },
     "execution_count": 10,
     "metadata": {},
     "output_type": "execute_result"
    }
   ],
   "source": [
    "# Q5. Write a python program to filter the numbers in a given list that are divisible by 2 and 3 using the\n",
    "# filter function.\n",
    "# [2, 3, 6, 9, 27, 60, 90, 120, 55, 46]\n",
    "\n",
    "l=[2, 3, 6, 9, 27, 60, 90, 120, 55, 46]\n",
    "\n",
    "list(filter(lambda x: (x%2==0) and (x%3==0),l))\n",
    "\n",
    "# or list(filter(lambda x: x%2==0 and x%3==0,l)) gives same output"
   ]
  },
  {
   "cell_type": "code",
   "execution_count": 12,
   "id": "ec30ed8e-b3d5-4b60-b967-fb94d42781fa",
   "metadata": {},
   "outputs": [
    {
     "name": "stdout",
     "output_type": "stream",
     "text": [
      "['php', 'aba', 'radar', 'level']\n"
     ]
    }
   ],
   "source": [
    "# Q6. Write a python program to find palindromes in the given list of strings using lambda and filter\n",
    "# function.\n",
    "# ['python', 'php', 'aba', 'radar', 'level']\n",
    "\n",
    "strings = ['python', 'php', 'aba', 'radar', 'level']\n",
    "\n",
    "palindromes = list(filter(lambda s: s == s[::-1], strings))\n",
    "\n",
    "print(palindromes)\n",
    "\n",
    "\n",
    "# In this program, the lambda function lambda s: s == s[::-1] is used to check if\n",
    "# a string s is a palindrome. The expression s[::-1] reverses the string, and we\n",
    "# compare it with the original string s to check if they are equal.\n",
    "\n",
    "# The filter() function takes the lambda function and the strings list as arguments.\n",
    "# It applies the lambda function to each string in the list and returns only the strings\n",
    "# for which the lambda function evaluates to True (i.e., the palindromes).\n",
    "\n",
    "# We convert the filtered result into a list using the list() function and store it \n",
    "# in the palindromes variable.\n",
    "\n",
    "# Finally, we print the palindromes list, which contains all the palindromes from\n",
    "# the original list of strings"
   ]
  },
  {
   "cell_type": "code",
   "execution_count": null,
   "id": "70e460ec-b6ed-4332-bef3-7f15cdcd7867",
   "metadata": {},
   "outputs": [],
   "source": []
  }
 ],
 "metadata": {
  "kernelspec": {
   "display_name": "Python 3 (ipykernel)",
   "language": "python",
   "name": "python3"
  },
  "language_info": {
   "codemirror_mode": {
    "name": "ipython",
    "version": 3
   },
   "file_extension": ".py",
   "mimetype": "text/x-python",
   "name": "python",
   "nbconvert_exporter": "python",
   "pygments_lexer": "ipython3",
   "version": "3.10.8"
  }
 },
 "nbformat": 4,
 "nbformat_minor": 5
}
