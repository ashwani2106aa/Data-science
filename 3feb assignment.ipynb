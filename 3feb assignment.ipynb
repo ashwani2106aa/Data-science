{
 "cells": [
  {
   "cell_type": "code",
   "execution_count": 6,
   "id": "9fcab590-bc4f-4533-9408-0285b382b5e6",
   "metadata": {},
   "outputs": [
    {
     "data": {
      "text/plain": [
       "[1, 3, 5, 7, 9, 11, 13, 15, 17, 19, 21, 23, 25]"
      ]
     },
     "execution_count": 6,
     "metadata": {},
     "output_type": "execute_result"
    }
   ],
   "source": [
    "# Q1. Which keyword is used to create a function? Create a function to return a list of odd numbers in the\n",
    "# range of 1 to 25.\n",
    "\n",
    "# Ans---\n",
    "# To create a function in most programming languages, the keyword used is \"def\" which stands for define.\n",
    "\n",
    "def get_odd_num():\n",
    "    odd_num_list=[]\n",
    "    for i in range(1,26):\n",
    "        if i%2!=0:\n",
    "            odd_num_list.append(i)\n",
    "    return odd_num_list\n",
    "\n",
    "get_odd_num()"
   ]
  },
  {
   "cell_type": "code",
   "execution_count": 8,
   "id": "fb8ed2d3-78db-4d7d-8a8f-6ce1661b5f76",
   "metadata": {},
   "outputs": [
    {
     "name": "stdout",
     "output_type": "stream",
     "text": [
      "15\n",
      "name: John\n",
      "age: 20\n",
      "major: Computer Science\n"
     ]
    }
   ],
   "source": [
    "# Q2. Why *args and **kwargs is used in some functions? Create a function each for *args and **kwargs\n",
    "# to demonstrate their use.\n",
    "\n",
    "# Ans--\n",
    "# The *args and **kwargs are used in some functions to handle variable-length arguments.\n",
    "\n",
    "# The *args parameter allows a function to accept an arbitrary number of positional arguments as a tuple.\n",
    "# Here's an example of a function that uses *args:\n",
    "def sum_numbers(*args):\n",
    "    total = 0\n",
    "    for num in args:\n",
    "        total += num\n",
    "    return total\n",
    "\n",
    "result = sum_numbers(1, 2, 3, 4, 5)\n",
    "print(result)\n",
    "\n",
    "# In this example, the function sum_numbers accepts any number of arguments,\n",
    "# which are passed as a tuple args. It then iterates through the elements of \n",
    "# args and adds them to the total variable. Finally, it returns the sum of all the numbers.\n",
    "\n",
    "# When called with sum_numbers(1, 2, 3, 4, 5), it will print the sum of the numbers: 15.\n",
    "\n",
    "# The **kwargs parameter allows a function to accept an arbitrary number of\n",
    "# keyword arguments as a dictionary.\n",
    "# Here's an example of a function that uses **kwargs:\n",
    "\n",
    "def print_student_info(**kwargs):\n",
    "    for key, value in kwargs.items():\n",
    "        print(f\"{key}: {value}\")\n",
    "\n",
    "print_student_info(name=\"John\", age=20, major=\"Computer Science\")\n",
    "\n",
    "# In this example, the function print_student_info accepts any \n",
    "# number of keyword arguments, which are passed as a dictionary kwargs.\n",
    "# It iterates through the key-value pairs of kwargs and prints them.\n",
    "\n",
    "# When called with print_student_info(name=\"John\", age=20, major=\"Computer Science\"),\n",
    "# it will print:"
   ]
  },
  {
   "cell_type": "code",
   "execution_count": 10,
   "id": "89f9599d-d9f2-4222-a1ac-3e6d6cfcf09d",
   "metadata": {},
   "outputs": [
    {
     "name": "stdout",
     "output_type": "stream",
     "text": [
      "2\n",
      "4\n",
      "6\n",
      "8\n",
      "10\n"
     ]
    }
   ],
   "source": [
    "# Q3. What is an iterator in python? Name the method used to initialise the iterator object and the method\n",
    "# used for iteration. Use these methods to print the first five elements of the given list [2, 4, 6, 8, 10, 12, 14,\n",
    "# 16, 18, 20]\n",
    "                   \n",
    "# Ans--\n",
    "# In Python, an iterator is an object that allows you to iterate over a sequence of elements.\n",
    "# It provides a way to access the elements of a container sequentially, without the need\n",
    "# to know the internal structure of the container.\n",
    "\n",
    "# The method used to initialize an iterator object in Python is iter(). \n",
    "# It takes an iterable object as an argument and returns an iterator.\n",
    "\n",
    "# The method used for iteration is next(). It retrieves the next element from the iterator.\n",
    "# When there are no more elements, it raises the StopIteration exception.\n",
    "\n",
    "# To print the first five elements of the given list [2, 4, 6, 8, 10, 12, 14, 16, 18, 20], \n",
    "# we can create an iterator using iter(), and then use next() in a loop to retrieve the next element.\n",
    "\n",
    "# Here's an example:\n",
    "\n",
    "\n",
    "my_list = [2, 4, 6, 8, 10, 12, 14, 16, 18, 20]\n",
    "my_iterator = iter(my_list)\n",
    "\n",
    "for _ in range(5):\n",
    "    element = next(my_iterator)\n",
    "    print(element)\n",
    "# In this example, we create an iterator my_iterator by calling iter() on the list my_list.\n",
    "# Then, in the loop, we use next()  to retrieve the next element from the iterator and print it.\n",
    "# The loop iterates five times, printing the first five elements of the list."
   ]
  },
  {
   "cell_type": "code",
   "execution_count": 11,
   "id": "dc8a364d-b893-40e4-a19d-9b34ddcdfa9d",
   "metadata": {},
   "outputs": [
    {
     "name": "stdout",
     "output_type": "stream",
     "text": [
      "[0, 1, 1, 2, 3, 5, 8, 13, 21, 34]\n"
     ]
    }
   ],
   "source": [
    "# Q4. What is a generator function in python? Why yield keyword is used? Give an example of a generator\n",
    "# function.\n",
    "# Ans--\n",
    "# In Python, a generator function is a special type of function that generates\n",
    "# a sequence of values using the yield keyword. Unlike regular functions that\n",
    "# use return to return a result and terminate, generator functions can be paused \n",
    "# and resumed, allowing them to generate a series of values over time.\n",
    "\n",
    "# The yield keyword is used in generator functions to yield a value to the caller,\n",
    "# but unlike return, it doesn't terminate the function. It temporarily pauses the \n",
    "# function's execution and returns the yielded value to the caller.\n",
    "# The state of the function is saved, allowing it to resume from\n",
    "# where it left off when the next value is requested.\n",
    "\n",
    "# Here's an example of a generator function that generates a sequence\n",
    "# of Fibonacci numbers:\n",
    "def fibonacci_generator():\n",
    "    a, b = 0, 1\n",
    "    while True:\n",
    "        yield a\n",
    "        a, b = b, a + b\n",
    "\n",
    "# Creating a Fibonacci generator object\n",
    "fib_gen = fibonacci_generator()\n",
    "\n",
    "# Generating the first 10 Fibonacci numbers\n",
    "fibonacci_numbers = []\n",
    "for _ in range(10):\n",
    "    number = next(fib_gen)\n",
    "    fibonacci_numbers.append(number)\n",
    "\n",
    "print(fibonacci_numbers)\n",
    "\n",
    "\n",
    "# In this example, the fibonacci_generator function is defined using the def keyword. \n",
    "# It uses a while loop to repeatedly yield the Fibonacci numbers. \n",
    "# The initial values of a and b are set to 0 and 1 respectively,\n",
    "# and in each iteration, the yield statement is used to yield the current value of a. \n",
    "# Then, a and b are updated to the next Fibonacci numbers.\n",
    "\n",
    "# By calling next() on the generator object (fib_gen) in a loop, we generate \n",
    "# the first 10 Fibonacci numbers and append them to a list"
   ]
  },
  {
   "cell_type": "code",
   "execution_count": 13,
   "id": "33ed547d-5cdd-48b8-89b9-8ba6ba62e955",
   "metadata": {},
   "outputs": [
    {
     "name": "stdout",
     "output_type": "stream",
     "text": [
      "[2, 3, 5, 7, 11, 13, 17, 19, 23, 29, 31, 37, 41, 43, 47, 53, 59, 61, 67, 71]\n"
     ]
    }
   ],
   "source": [
    "# Q5. Create a generator function for prime numbers less than 1000. Use the next() method to print the\n",
    "# first 20 prime numbers.\n",
    "\n",
    "# Ans--\n",
    "\n",
    "def is_prime(num):\n",
    "    if num < 2:\n",
    "        return False\n",
    "    for i in range(2, int(num ** 0.5) + 1):\n",
    "        if num % i == 0:\n",
    "            return False\n",
    "    return True\n",
    "\n",
    "def prime_generator():\n",
    "    num = 2\n",
    "    while True:\n",
    "        if is_prime(num):\n",
    "            yield num\n",
    "        num += 1\n",
    "\n",
    "# Creating a prime number generator object\n",
    "prime_gen = prime_generator()\n",
    "\n",
    "# Printing the first 20 prime numbers\n",
    "prime_numbers = []\n",
    "for _ in range(20):\n",
    "    prime = next(prime_gen)\n",
    "    prime_numbers.append(prime)\n",
    "\n",
    "print(prime_numbers)\n",
    "\n",
    "# In this example, the is_prime() function is defined to check if a number is prime.\n",
    "# It returns True if the number is prime, and False otherwise.\n",
    "\n",
    "# The prime_generator() function is a generator function that generates prime numbers.\n",
    "# It starts with num equal to 2 and then uses a while loop to continuously check if\n",
    "# num is prime using the is_prime() function. If num is prime, it is yielded to the \n",
    "# caller.\n",
    "\n",
    "# By calling next() on the generator object (prime_gen) in a loop, we generate\n",
    "# and print the first 20 prime numbers. "
   ]
  },
  {
   "cell_type": "code",
   "execution_count": 15,
   "id": "234d6246-5c8b-4ebe-be34-f87df566177c",
   "metadata": {},
   "outputs": [
    {
     "name": "stdout",
     "output_type": "stream",
     "text": [
      "0\n",
      "1\n",
      "1\n",
      "2\n",
      "3\n",
      "5\n",
      "8\n",
      "13\n",
      "21\n",
      "34\n"
     ]
    }
   ],
   "source": [
    "# Q6. Write a python program to print the first 10 Fibonacci numbers using a while loop.\n",
    "\n",
    "# Initialize the first two Fibonacci numbers\n",
    "a, b = 0, 1\n",
    "\n",
    "# Counter to keep track of the number of Fibonacci numbers printed\n",
    "count = 0\n",
    "\n",
    "# While loop to keep generating Fibonacci numbers\n",
    "while count < 10:\n",
    "    # Print the current Fibonacci number\n",
    "    print(a)\n",
    "\n",
    "    # Update the Fibonacci sequence\n",
    "    a, b = b, a + b\n",
    "\n",
    "    # Increment the counter\n",
    "    count += 1\n"
   ]
  },
  {
   "cell_type": "code",
   "execution_count": 18,
   "id": "95e809af-52e5-4a4e-aa4c-b4d9cd1541af",
   "metadata": {},
   "outputs": [
    {
     "data": {
      "text/plain": [
       "['p', 'w', 's', 'k', 'i', 'l', 'l', 's']"
      ]
     },
     "execution_count": 18,
     "metadata": {},
     "output_type": "execute_result"
    }
   ],
   "source": [
    "# Q7. Write a List Comprehension to iterate through the given string: ‘pwskills’.\n",
    "# Expected output: ['p', 'w', 's', 'k', 'i', 'l', 'l', 's']\n",
    "\n",
    "l=\"pwskills\"\n",
    "result=[ i for i in l]\n",
    "result\n"
   ]
  },
  {
   "cell_type": "code",
   "execution_count": 20,
   "id": "b94ed9fe-4fd9-42df-ae91-be653baab28c",
   "metadata": {},
   "outputs": [
    {
     "name": "stdin",
     "output_type": "stream",
     "text": [
      "Enter a number:  232\n"
     ]
    },
    {
     "name": "stdout",
     "output_type": "stream",
     "text": [
      "232 is a palindrome\n"
     ]
    }
   ],
   "source": [
    "# Q8. Write a python program to check whether a given number is Palindrome\n",
    "# or not using a while loop.\n",
    "# Ans--\n",
    "def is_palindrome(num):\n",
    "    # Store the original number\n",
    "    original_num = num\n",
    "    \n",
    "    reversed_num = 0\n",
    "    while num > 0:\n",
    "        # Extract the last digit\n",
    "        digit = num % 10\n",
    "        \n",
    "        # Build the reversed number\n",
    "        reversed_num = (reversed_num * 10) + digit\n",
    "        \n",
    "        # Remove the last digit from the number\n",
    "        num = num // 10\n",
    "    \n",
    "    # Check if the reversed number is equal to the original number\n",
    "    if original_num == reversed_num:\n",
    "        return True\n",
    "    else:\n",
    "        return False\n",
    "\n",
    "# Test the function\n",
    "number = int(input(\"Enter a number: \"))\n",
    "\n",
    "if is_palindrome(number):\n",
    "    print(number, \"is a palindrome\")\n",
    "else:\n",
    "    print(number, \"is not a palindrome\")\n"
   ]
  },
  {
   "cell_type": "code",
   "execution_count": 25,
   "id": "4283c860-c59e-4b85-947d-55986ec3c491",
   "metadata": {},
   "outputs": [
    {
     "name": "stdout",
     "output_type": "stream",
     "text": [
      "[1, 3, 5, 7, 9, 11, 13, 15, 17, 19, 21, 23, 25, 27, 29, 31, 33, 35, 37, 39, 41, 43, 45, 47, 49, 51, 53, 55, 57, 59, 61, 63, 65, 67, 69, 71, 73, 75, 77, 79, 81, 83, 85, 87, 89, 91, 93, 95, 97, 99]\n"
     ]
    }
   ],
   "source": [
    "# Q9. Write a code to print odd numbers from 1 to 100 using list comprehension.\n",
    "l=[i for i in range(1,101)] # List comprehension to create a list from 1 to 100\n",
    "a=[ i for i in l if i%2!=0] # List comprehension to filter out odd numbers\n",
    "print(a)"
   ]
  },
  {
   "cell_type": "code",
   "execution_count": null,
   "id": "7ebcfc40-a0ac-4cff-a9ba-0313bb34ac31",
   "metadata": {},
   "outputs": [],
   "source": []
  }
 ],
 "metadata": {
  "kernelspec": {
   "display_name": "Python 3 (ipykernel)",
   "language": "python",
   "name": "python3"
  },
  "language_info": {
   "codemirror_mode": {
    "name": "ipython",
    "version": 3
   },
   "file_extension": ".py",
   "mimetype": "text/x-python",
   "name": "python",
   "nbconvert_exporter": "python",
   "pygments_lexer": "ipython3",
   "version": "3.10.8"
  }
 },
 "nbformat": 4,
 "nbformat_minor": 5
}
